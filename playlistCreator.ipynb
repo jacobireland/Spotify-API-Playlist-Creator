{
  "nbformat": 4,
  "nbformat_minor": 0,
  "metadata": {
    "colab": {
      "name": "SpotifyPythonGenrePlaylistCreator.ipynb",
      "provenance": [],
      "authorship_tag": "ABX9TyPcPVeWL/2Bhn+TOnOkfZ5l",
      "include_colab_link": true
    },
    "kernelspec": {
      "name": "python3",
      "display_name": "Python 3"
    },
    "language_info": {
      "name": "python"
    }
  },
  "cells": [
    {
      "cell_type": "markdown",
      "metadata": {
        "id": "view-in-github",
        "colab_type": "text"
      },
      "source": [
        "<a href=\"https://colab.research.google.com/github/jacobireland/Spotify-API-Playlist-Creator/blob/main/playlistCreator.ipynb\" target=\"_parent\"><img src=\"https://colab.research.google.com/assets/colab-badge.svg\" alt=\"Open In Colab\"/></a>"
      ]
    },
    {
      "cell_type": "code",
      "execution_count": 9,
      "metadata": {
        "colab": {
          "base_uri": "https://localhost:8080/"
        },
        "id": "r1T3z7sUya7b",
        "outputId": "a1589508-0724-4655-9247-863338f5af17"
      },
      "outputs": [
        {
          "output_type": "stream",
          "name": "stdout",
          "text": [
            "Looking in indexes: https://pypi.org/simple, https://us-python.pkg.dev/colab-wheels/public/simple/\n",
            "Requirement already satisfied: requests in /usr/local/lib/python3.7/dist-packages (2.23.0)\n",
            "Requirement already satisfied: certifi>=2017.4.17 in /usr/local/lib/python3.7/dist-packages (from requests) (2022.6.15)\n",
            "Requirement already satisfied: chardet<4,>=3.0.2 in /usr/local/lib/python3.7/dist-packages (from requests) (3.0.4)\n",
            "Requirement already satisfied: urllib3!=1.25.0,!=1.25.1,<1.26,>=1.21.1 in /usr/local/lib/python3.7/dist-packages (from requests) (1.24.3)\n",
            "Requirement already satisfied: idna<3,>=2.5 in /usr/local/lib/python3.7/dist-packages (from requests) (2.10)\n"
          ]
        }
      ],
      "source": [
        "!pip install requests\n",
        "import requests\n",
        "import numpy as np\n",
        "import matplotlib.pyplot as plt\n",
        "import json\n",
        "from urllib.parse import urlencode"
      ]
    },
    {
      "cell_type": "code",
      "source": [
        "#Authenticate\n",
        "\n",
        "# User credentials you get from registering a new application on the Spotify Developers dashboard\n",
        "client_id = \"<your_client_id>\"\n",
        "client_secret = \"<your_client_secret>\"\n",
        "redirect_uri = '<your_redirect_uri>'\n",
        "\n",
        "# OAuth endpoints given in the Spotify API documentation\n",
        "# https://developer.spotify.com/documentation/general/guides/authorization/code-flow/\n",
        "authorization_base_url = \"https://accounts.spotify.com/authorize\"\n",
        "token_url = \"https://accounts.spotify.com/api/token\"\n",
        "# https://developer.spotify.com/documentation/general/guides/authorization/scopes/\n",
        "scope = [\n",
        "    \"user-read-email\",\n",
        "    \"user-top-read\",\n",
        "    \"playlist-modify-public\",\n",
        "    \"playlist-modify-private\"\n",
        "]\n",
        "\n",
        "from requests_oauthlib import OAuth2Session\n",
        "spotify = OAuth2Session(client_id, scope=scope, redirect_uri=redirect_uri)\n",
        "\n",
        "# Redirect user to Spotify for authorization\n",
        "authorization_url, state = spotify.authorization_url(authorization_base_url)\n",
        "print('Please go here and authorize: ', authorization_url)\n",
        "\n",
        "# Get the authorization verifier code from the callback url\n",
        "redirect_response = input('\\n\\nPaste the full redirect URL here: ')\n",
        "\n",
        "from requests.auth import HTTPBasicAuth\n",
        "\n",
        "auth = HTTPBasicAuth(client_id, client_secret)\n",
        "\n",
        "# Fetch the access token\n",
        "token = spotify.fetch_token(token_url, auth=auth, authorization_response=redirect_response)\n",
        "\n",
        "user1_access_token = token['access_token']\n",
        "\n",
        "print(token)\n",
        "\n",
        "# Fetch a protected resource, i.e. user profile\n",
        "r = spotify.get('https://api.spotify.com/v1/me')\n",
        "\n",
        "info = r.json()\n",
        "user_id = info['id']\n"
      ],
      "metadata": {
        "colab": {
          "base_uri": "https://localhost:8080/"
        },
        "id": "jwJX7n1Yb2x6",
        "outputId": "80242b84-2189-4c72-fc1e-be21fb5b1d33"
      },
      "execution_count": 36,
      "outputs": [
        {
          "output_type": "stream",
          "name": "stdout",
          "text": [
            "Please go here and authorize:  https://accounts.spotify.com/authorize?response_type=code&client_id=ba8719443e4c4805a0eb198e94939bb6&redirect_uri=https%3A%2F%2Flocalhost%3A8888%2Fcallback&scope=user-read-email+user-top-read+playlist-modify-public+playlist-modify-private&state=Dq5Gom2bLWbVkTmUx8tN26mqPk4pj6\n",
            "\n",
            "\n",
            "Paste the full redirect URL here: https://localhost:8888/callback?code=AQA4n57JMkg4bhP5EjAJRRdCpkKcB_tDzryqded7renTSO5s4flJZnpku-MdvV89w1-7QXnEjiwMJpWYqECg-pFOhnYnKHTrlZrPeqoR-2DaYQitRz6cnQD91oTr7JSXcnvlK7KrMxlrv81x5zSJyTb_OlQYJFiKnA6kFhFLYG4b_aWdTunaQAiC6KJ2dqfAjY9ljg_WczuL2F8NxVywxTtUkVAbVpbvxS9TzaNIszw5RBrbdaCmtRpxrNOTzq-8lV-Jp3IE9dOwGGHIzRFRvB1z9oA&state=Dq5Gom2bLWbVkTmUx8tN26mqPk4pj6\n",
            "{'access_token': 'BQDt8uM5cRWAAZ_HLVEXuJ8pm66luIdUa1rLaviXbQmkYdkRF-Sub5aubNoukED1ltkEtFrVVkXiPpOdFpgtYeuWEMJvCYq3oi2SidWbVGEtmfPymoEUlLKODIvO5DktKNS4_Rj4Wq6iUoyDml1xEan2tRaeiKXGxos-DeAVdiwKQ8yYf9uKQp2zQXn1rXCgXX1nOuEBKGlSZfWIiljXl1JeGxl7EbtYdN0AeFy1Klh4V-wwG2_lwqMxIRV_', 'token_type': 'Bearer', 'expires_in': 3600, 'refresh_token': 'AQB_bYoe-FYXEZxRI2gveZxI3z_xBsBh0bQam85izkNSSwUruQj2VH2EbKkpL-rf4BnPzPiVgx5NbhFxPpYq6yg0SNYdRY_HjprFoBxE-iwQFElPZEjPomRfGmLQ937o1IA', 'scope': ['playlist-modify-private', 'playlist-modify-public', 'user-read-email', 'user-top-read'], 'expires_at': 1657600234.2202163}\n"
          ]
        }
      ]
    },
    {
      "cell_type": "code",
      "source": [
        "#send GET request for user's top artists\n",
        "user_type = \"artists\"\n",
        "\n",
        "endpoint = \"https://api.spotify.com/v1/me/top/\"\n",
        "\n",
        "user_header =  {\"Authorization\": f\"Bearer {user1_access_token}\"}\n",
        "\n",
        "final_url = f\"{endpoint}{user_type}?limit=200\"\n",
        "\n",
        "r = requests.get(final_url, headers=user_header)\n",
        "\n",
        "\n",
        "#create array of genres, based on top artists listened too\n",
        "topTracks = r.json()\n",
        "topGenres = []\n",
        "topGenresAmt = []\n",
        "y=0;\n",
        "for t in topTracks['items']:\n",
        "  equal = 0\n",
        "  genre = t['genres']\n",
        "  if y == 0:\n",
        "    topGenres.append(genre[0].split().pop(-1))\n",
        "    topGenresAmt.append(0)\n",
        "    y = y+1\n",
        "\n",
        "  else:\n",
        "    for i in topGenres:\n",
        "      if (len(genre) > 0):\n",
        "        if i == genre[0].split().pop(-1):\n",
        "          equal = 1;\n",
        "    if equal == 0:\n",
        "      if len(genre) > 0:\n",
        "        topGenres.append(genre[0].split().pop(-1))\n",
        "        topGenresAmt.append(0)\n",
        "\n",
        "\n",
        "#create an array to keep track of commoness of each genre type\n",
        "x = 0\n",
        "for t in topGenres:\n",
        "  for i in topTracks['items']:\n",
        "    genre = i['genres']\n",
        "    if len(genre) > 0:\n",
        "      if t == genre[0].split().pop(-1):\n",
        "        topGenresAmt[x] = topGenresAmt[x]+1\n",
        "  x = x+1\n",
        "\n",
        "\n",
        "print(topTracks)\n",
        "print(topGenres)\n",
        "print(topGenresAmt)\n"
      ],
      "metadata": {
        "colab": {
          "base_uri": "https://localhost:8080/"
        },
        "id": "pEd3wFGjgxe6",
        "outputId": "e0c69f10-3bbd-4d7a-c8ac-d3b918e22c6a"
      },
      "execution_count": 114,
      "outputs": [
        {
          "output_type": "stream",
          "name": "stdout",
          "text": [
            "{'items': [{'external_urls': {'spotify': 'https://open.spotify.com/artist/5K4W6rqBFWDnAN6FQUkS6x'}, 'followers': {'href': None, 'total': 17698450}, 'genres': ['chicago rap', 'rap'], 'href': 'https://api.spotify.com/v1/artists/5K4W6rqBFWDnAN6FQUkS6x', 'id': '5K4W6rqBFWDnAN6FQUkS6x', 'images': [{'height': 640, 'url': 'https://i.scdn.co/image/ab6761610000e5eb867008a971fae0f4d913f63a', 'width': 640}, {'height': 320, 'url': 'https://i.scdn.co/image/ab67616100005174867008a971fae0f4d913f63a', 'width': 320}, {'height': 160, 'url': 'https://i.scdn.co/image/ab6761610000f178867008a971fae0f4d913f63a', 'width': 160}], 'name': 'Kanye West', 'popularity': 89, 'type': 'artist', 'uri': 'spotify:artist:5K4W6rqBFWDnAN6FQUkS6x'}, {'external_urls': {'spotify': 'https://open.spotify.com/artist/4LLpKhyESsyAXpc4laK94U'}, 'followers': {'href': None, 'total': 7712886}, 'genres': ['hip hop', 'pittsburgh rap', 'rap'], 'href': 'https://api.spotify.com/v1/artists/4LLpKhyESsyAXpc4laK94U', 'id': '4LLpKhyESsyAXpc4laK94U', 'images': [{'height': 640, 'url': 'https://i.scdn.co/image/ab6761610000e5ebed3b89aa602145fde71a163a', 'width': 640}, {'height': 320, 'url': 'https://i.scdn.co/image/ab67616100005174ed3b89aa602145fde71a163a', 'width': 320}, {'height': 160, 'url': 'https://i.scdn.co/image/ab6761610000f178ed3b89aa602145fde71a163a', 'width': 160}], 'name': 'Mac Miller', 'popularity': 82, 'type': 'artist', 'uri': 'spotify:artist:4LLpKhyESsyAXpc4laK94U'}, {'external_urls': {'spotify': 'https://open.spotify.com/artist/2YZyLoL8N0Wb9xBt1NhZWg'}, 'followers': {'href': None, 'total': 20900915}, 'genres': ['conscious hip hop', 'hip hop', 'rap', 'west coast rap'], 'href': 'https://api.spotify.com/v1/artists/2YZyLoL8N0Wb9xBt1NhZWg', 'id': '2YZyLoL8N0Wb9xBt1NhZWg', 'images': [{'height': 640, 'url': 'https://i.scdn.co/image/ab6761610000e5eb437b9e2a82505b3d93ff1022', 'width': 640}, {'height': 320, 'url': 'https://i.scdn.co/image/ab67616100005174437b9e2a82505b3d93ff1022', 'width': 320}, {'height': 160, 'url': 'https://i.scdn.co/image/ab6761610000f178437b9e2a82505b3d93ff1022', 'width': 160}], 'name': 'Kendrick Lamar', 'popularity': 89, 'type': 'artist', 'uri': 'spotify:artist:2YZyLoL8N0Wb9xBt1NhZWg'}, {'external_urls': {'spotify': 'https://open.spotify.com/artist/0L8ExT028jH3ddEcZwqJJ5'}, 'followers': {'href': None, 'total': 18336517}, 'genres': ['alternative rock', 'funk metal', 'funk rock', 'permanent wave'], 'href': 'https://api.spotify.com/v1/artists/0L8ExT028jH3ddEcZwqJJ5', 'id': '0L8ExT028jH3ddEcZwqJJ5', 'images': [{'height': 640, 'url': 'https://i.scdn.co/image/ab6761610000e5ebb0dd96d5c6fcd8b068834373', 'width': 640}, {'height': 320, 'url': 'https://i.scdn.co/image/ab67616100005174b0dd96d5c6fcd8b068834373', 'width': 320}, {'height': 160, 'url': 'https://i.scdn.co/image/ab6761610000f178b0dd96d5c6fcd8b068834373', 'width': 160}], 'name': 'Red Hot Chili Peppers', 'popularity': 81, 'type': 'artist', 'uri': 'spotify:artist:0L8ExT028jH3ddEcZwqJJ5'}, {'external_urls': {'spotify': 'https://open.spotify.com/artist/0fA0VVWsXO9YnASrzqfmYu'}, 'followers': {'href': None, 'total': 5917690}, 'genres': ['hip hop', 'ohio hip hop', 'rap'], 'href': 'https://api.spotify.com/v1/artists/0fA0VVWsXO9YnASrzqfmYu', 'id': '0fA0VVWsXO9YnASrzqfmYu', 'images': [{'height': 640, 'url': 'https://i.scdn.co/image/ab6761610000e5eb876faa285687786c3d314ae0', 'width': 640}, {'height': 320, 'url': 'https://i.scdn.co/image/ab67616100005174876faa285687786c3d314ae0', 'width': 320}, {'height': 160, 'url': 'https://i.scdn.co/image/ab6761610000f178876faa285687786c3d314ae0', 'width': 160}], 'name': 'Kid Cudi', 'popularity': 80, 'type': 'artist', 'uri': 'spotify:artist:0fA0VVWsXO9YnASrzqfmYu'}, {'external_urls': {'spotify': 'https://open.spotify.com/artist/7dGJo4pcD2V6oG8kP0tJRR'}, 'followers': {'href': None, 'total': 57253073}, 'genres': ['detroit hip hop', 'hip hop', 'rap'], 'href': 'https://api.spotify.com/v1/artists/7dGJo4pcD2V6oG8kP0tJRR', 'id': '7dGJo4pcD2V6oG8kP0tJRR', 'images': [{'height': 640, 'url': 'https://i.scdn.co/image/ab6761610000e5eba00b11c129b27a88fc72f36b', 'width': 640}, {'height': 320, 'url': 'https://i.scdn.co/image/ab67616100005174a00b11c129b27a88fc72f36b', 'width': 320}, {'height': 160, 'url': 'https://i.scdn.co/image/ab6761610000f178a00b11c129b27a88fc72f36b', 'width': 160}], 'name': 'Eminem', 'popularity': 89, 'type': 'artist', 'uri': 'spotify:artist:7dGJo4pcD2V6oG8kP0tJRR'}, {'external_urls': {'spotify': 'https://open.spotify.com/artist/6l3HvQ5sa6mXTsMTB19rO5'}, 'followers': {'href': None, 'total': 17270335}, 'genres': ['conscious hip hop', 'hip hop', 'north carolina hip hop', 'rap'], 'href': 'https://api.spotify.com/v1/artists/6l3HvQ5sa6mXTsMTB19rO5', 'id': '6l3HvQ5sa6mXTsMTB19rO5', 'images': [{'height': 640, 'url': 'https://i.scdn.co/image/ab6761610000e5ebadd503b411a712e277895c8a', 'width': 640}, {'height': 320, 'url': 'https://i.scdn.co/image/ab67616100005174add503b411a712e277895c8a', 'width': 320}, {'height': 160, 'url': 'https://i.scdn.co/image/ab6761610000f178add503b411a712e277895c8a', 'width': 160}], 'name': 'J. Cole', 'popularity': 84, 'type': 'artist', 'uri': 'spotify:artist:6l3HvQ5sa6mXTsMTB19rO5'}, {'external_urls': {'spotify': 'https://open.spotify.com/artist/3TVXtAsR1Inumwj472S9r4'}, 'followers': {'href': None, 'total': 65005410}, 'genres': ['canadian hip hop', 'canadian pop', 'hip hop', 'rap', 'toronto rap'], 'href': 'https://api.spotify.com/v1/artists/3TVXtAsR1Inumwj472S9r4', 'id': '3TVXtAsR1Inumwj472S9r4', 'images': [{'height': 640, 'url': 'https://i.scdn.co/image/ab6761610000e5eb4293385d324db8558179afd9', 'width': 640}, {'height': 320, 'url': 'https://i.scdn.co/image/ab676161000051744293385d324db8558179afd9', 'width': 320}, {'height': 160, 'url': 'https://i.scdn.co/image/ab6761610000f1784293385d324db8558179afd9', 'width': 160}], 'name': 'Drake', 'popularity': 95, 'type': 'artist', 'uri': 'spotify:artist:3TVXtAsR1Inumwj472S9r4'}, {'external_urls': {'spotify': 'https://open.spotify.com/artist/0epOFNiUfyON9EYx7Tpr6V'}, 'followers': {'href': None, 'total': 4416031}, 'genres': ['alternative rock', 'garage rock', 'modern rock', 'permanent wave', 'rock'], 'href': 'https://api.spotify.com/v1/artists/0epOFNiUfyON9EYx7Tpr6V', 'id': '0epOFNiUfyON9EYx7Tpr6V', 'images': [{'height': 640, 'url': 'https://i.scdn.co/image/ab6761610000e5eb64d74f5985cb66b2f7b60e93', 'width': 640}, {'height': 320, 'url': 'https://i.scdn.co/image/ab6761610000517464d74f5985cb66b2f7b60e93', 'width': 320}, {'height': 160, 'url': 'https://i.scdn.co/image/ab6761610000f17864d74f5985cb66b2f7b60e93', 'width': 160}], 'name': 'The Strokes', 'popularity': 74, 'type': 'artist', 'uri': 'spotify:artist:0epOFNiUfyON9EYx7Tpr6V'}, {'external_urls': {'spotify': 'https://open.spotify.com/artist/246dkjvS1zLTtiykXe5h60'}, 'followers': {'href': None, 'total': 37470527}, 'genres': ['dfw rap', 'melodic rap', 'rap'], 'href': 'https://api.spotify.com/v1/artists/246dkjvS1zLTtiykXe5h60', 'id': '246dkjvS1zLTtiykXe5h60', 'images': [{'height': 640, 'url': 'https://i.scdn.co/image/ab6761610000e5ebb894ef9fa437b0389c5567cc', 'width': 640}, {'height': 320, 'url': 'https://i.scdn.co/image/ab67616100005174b894ef9fa437b0389c5567cc', 'width': 320}, {'height': 160, 'url': 'https://i.scdn.co/image/ab6761610000f178b894ef9fa437b0389c5567cc', 'width': 160}], 'name': 'Post Malone', 'popularity': 89, 'type': 'artist', 'uri': 'spotify:artist:246dkjvS1zLTtiykXe5h60'}, {'external_urls': {'spotify': 'https://open.spotify.com/artist/01QTIT5P1pFP3QnnFSdsJf'}, 'followers': {'href': None, 'total': 1759926}, 'genres': ['alternative hip hop', 'chicago rap', 'conscious hip hop', 'gangster rap', 'hip hop', 'political hip hop', 'pop rap', 'rap', 'southern hip hop'], 'href': 'https://api.spotify.com/v1/artists/01QTIT5P1pFP3QnnFSdsJf', 'id': '01QTIT5P1pFP3QnnFSdsJf', 'images': [{'height': 640, 'url': 'https://i.scdn.co/image/ab6761610000e5eb17e0a43f3aaa0c48410c4b68', 'width': 640}, {'height': 320, 'url': 'https://i.scdn.co/image/ab6761610000517417e0a43f3aaa0c48410c4b68', 'width': 320}, {'height': 160, 'url': 'https://i.scdn.co/image/ab6761610000f17817e0a43f3aaa0c48410c4b68', 'width': 160}], 'name': 'Lupe Fiasco', 'popularity': 66, 'type': 'artist', 'uri': 'spotify:artist:01QTIT5P1pFP3QnnFSdsJf'}, {'external_urls': {'spotify': 'https://open.spotify.com/artist/3nFkdlSjzX9mRTtwJOzDYB'}, 'followers': {'href': None, 'total': 7450894}, 'genres': ['east coast hip hop', 'hip hop', 'rap'], 'href': 'https://api.spotify.com/v1/artists/3nFkdlSjzX9mRTtwJOzDYB', 'id': '3nFkdlSjzX9mRTtwJOzDYB', 'images': [{'height': 640, 'url': 'https://i.scdn.co/image/ab6761610000e5ebc75afcd5a9027f60eaebb5e4', 'width': 640}, {'height': 320, 'url': 'https://i.scdn.co/image/ab67616100005174c75afcd5a9027f60eaebb5e4', 'width': 320}, {'height': 160, 'url': 'https://i.scdn.co/image/ab6761610000f178c75afcd5a9027f60eaebb5e4', 'width': 160}], 'name': 'JAY-Z', 'popularity': 82, 'type': 'artist', 'uri': 'spotify:artist:3nFkdlSjzX9mRTtwJOzDYB'}, {'external_urls': {'spotify': 'https://open.spotify.com/artist/0C0XlULifJtAgn6ZNCW2eu'}, 'followers': {'href': None, 'total': 6586813}, 'genres': ['alternative rock', 'dance rock', 'modern rock', 'permanent wave', 'rock'], 'href': 'https://api.spotify.com/v1/artists/0C0XlULifJtAgn6ZNCW2eu', 'id': '0C0XlULifJtAgn6ZNCW2eu', 'images': [{'height': 640, 'url': 'https://i.scdn.co/image/ab6761610000e5eb207b21f3ed0ee96adce3166a', 'width': 640}, {'height': 320, 'url': 'https://i.scdn.co/image/ab67616100005174207b21f3ed0ee96adce3166a', 'width': 320}, {'height': 160, 'url': 'https://i.scdn.co/image/ab6761610000f178207b21f3ed0ee96adce3166a', 'width': 160}], 'name': 'The Killers', 'popularity': 76, 'type': 'artist', 'uri': 'spotify:artist:0C0XlULifJtAgn6ZNCW2eu'}, {'external_urls': {'spotify': 'https://open.spotify.com/artist/5SXuuuRpukkTvsLuUknva1'}, 'followers': {'href': None, 'total': 926066}, 'genres': ['hip hop', 'rap'], 'href': 'https://api.spotify.com/v1/artists/5SXuuuRpukkTvsLuUknva1', 'id': '5SXuuuRpukkTvsLuUknva1', 'images': [{'height': 640, 'url': 'https://i.scdn.co/image/ab6761610000e5ebd6f2323c1971fd5a70cd0255', 'width': 640}, {'height': 320, 'url': 'https://i.scdn.co/image/ab67616100005174d6f2323c1971fd5a70cd0255', 'width': 320}, {'height': 160, 'url': 'https://i.scdn.co/image/ab6761610000f178d6f2323c1971fd5a70cd0255', 'width': 160}], 'name': 'Baby Keem', 'popularity': 76, 'type': 'artist', 'uri': 'spotify:artist:5SXuuuRpukkTvsLuUknva1'}, {'external_urls': {'spotify': 'https://open.spotify.com/artist/5PbpKlxQE0Ktl5lcNABoFf'}, 'followers': {'href': None, 'total': 498938}, 'genres': ['alternative rock', 'indie rock'], 'href': 'https://api.spotify.com/v1/artists/5PbpKlxQE0Ktl5lcNABoFf', 'id': '5PbpKlxQE0Ktl5lcNABoFf', 'images': [{'height': 640, 'url': 'https://i.scdn.co/image/ab6761610000e5eb592a703f8e58df5e1176f6ff', 'width': 640}, {'height': 320, 'url': 'https://i.scdn.co/image/ab67616100005174592a703f8e58df5e1176f6ff', 'width': 320}, {'height': 160, 'url': 'https://i.scdn.co/image/ab6761610000f178592a703f8e58df5e1176f6ff', 'width': 160}], 'name': 'Car Seat Headrest', 'popularity': 60, 'type': 'artist', 'uri': 'spotify:artist:5PbpKlxQE0Ktl5lcNABoFf'}, {'external_urls': {'spotify': 'https://open.spotify.com/artist/2P5sC9cVZDToPxyomzF1UH'}, 'followers': {'href': None, 'total': 2639457}, 'genres': ['conscious hip hop', 'hip hop', 'rap', 'underground hip hop'], 'href': 'https://api.spotify.com/v1/artists/2P5sC9cVZDToPxyomzF1UH', 'id': '2P5sC9cVZDToPxyomzF1UH', 'images': [{'height': 640, 'url': 'https://i.scdn.co/image/ab6761610000e5ebf1d35b11bc9729630dda0bae', 'width': 640}, {'height': 320, 'url': 'https://i.scdn.co/image/ab67616100005174f1d35b11bc9729630dda0bae', 'width': 320}, {'height': 160, 'url': 'https://i.scdn.co/image/ab6761610000f178f1d35b11bc9729630dda0bae', 'width': 160}], 'name': 'Joey Bada$$', 'popularity': 72, 'type': 'artist', 'uri': 'spotify:artist:2P5sC9cVZDToPxyomzF1UH'}, {'external_urls': {'spotify': 'https://open.spotify.com/artist/55Aa2cqylxrFIXC767Z865'}, 'followers': {'href': None, 'total': 12306835}, 'genres': ['hip hop', 'new orleans rap', 'pop rap', 'rap', 'trap'], 'href': 'https://api.spotify.com/v1/artists/55Aa2cqylxrFIXC767Z865', 'id': '55Aa2cqylxrFIXC767Z865', 'images': [{'height': 640, 'url': 'https://i.scdn.co/image/ab6761610000e5ebc63aded6f4bf4d06d1377106', 'width': 640}, {'height': 320, 'url': 'https://i.scdn.co/image/ab67616100005174c63aded6f4bf4d06d1377106', 'width': 320}, {'height': 160, 'url': 'https://i.scdn.co/image/ab6761610000f178c63aded6f4bf4d06d1377106', 'width': 160}], 'name': 'Lil Wayne', 'popularity': 84, 'type': 'artist', 'uri': 'spotify:artist:55Aa2cqylxrFIXC767Z865'}, {'external_urls': {'spotify': 'https://open.spotify.com/artist/1Xyo4u8uXC1ZmMpatF05PJ'}, 'followers': {'href': None, 'total': 46802573}, 'genres': ['canadian contemporary r&b', 'canadian pop', 'pop'], 'href': 'https://api.spotify.com/v1/artists/1Xyo4u8uXC1ZmMpatF05PJ', 'id': '1Xyo4u8uXC1ZmMpatF05PJ', 'images': [{'height': 640, 'url': 'https://i.scdn.co/image/ab6761610000e5ebb5f9e28219c169fd4b9e8379', 'width': 640}, {'height': 320, 'url': 'https://i.scdn.co/image/ab67616100005174b5f9e28219c169fd4b9e8379', 'width': 320}, {'height': 160, 'url': 'https://i.scdn.co/image/ab6761610000f178b5f9e28219c169fd4b9e8379', 'width': 160}], 'name': 'The Weeknd', 'popularity': 91, 'type': 'artist', 'uri': 'spotify:artist:1Xyo4u8uXC1ZmMpatF05PJ'}, {'external_urls': {'spotify': 'https://open.spotify.com/artist/6qqNVTkY8uBg9cP3Jd7DAH'}, 'followers': {'href': None, 'total': 65430646}, 'genres': ['art pop', 'electropop', 'pop'], 'href': 'https://api.spotify.com/v1/artists/6qqNVTkY8uBg9cP3Jd7DAH', 'id': '6qqNVTkY8uBg9cP3Jd7DAH', 'images': [{'height': 640, 'url': 'https://i.scdn.co/image/ab6761610000e5ebd8b9980db67272cb4d2c3daf', 'width': 640}, {'height': 320, 'url': 'https://i.scdn.co/image/ab67616100005174d8b9980db67272cb4d2c3daf', 'width': 320}, {'height': 160, 'url': 'https://i.scdn.co/image/ab6761610000f178d8b9980db67272cb4d2c3daf', 'width': 160}], 'name': 'Billie Eilish', 'popularity': 87, 'type': 'artist', 'uri': 'spotify:artist:6qqNVTkY8uBg9cP3Jd7DAH'}, {'external_urls': {'spotify': 'https://open.spotify.com/artist/0Y5tJX1MQlPlqiwlOH1tJY'}, 'followers': {'href': None, 'total': 20922265}, 'genres': ['hip hop', 'rap', 'slap house'], 'href': 'https://api.spotify.com/v1/artists/0Y5tJX1MQlPlqiwlOH1tJY', 'id': '0Y5tJX1MQlPlqiwlOH1tJY', 'images': [{'height': 640, 'url': 'https://i.scdn.co/image/ab6761610000e5ebe707b87e3f65997f6c09bfff', 'width': 640}, {'height': 320, 'url': 'https://i.scdn.co/image/ab67616100005174e707b87e3f65997f6c09bfff', 'width': 320}, {'height': 160, 'url': 'https://i.scdn.co/image/ab6761610000f178e707b87e3f65997f6c09bfff', 'width': 160}], 'name': 'Travis Scott', 'popularity': 86, 'type': 'artist', 'uri': 'spotify:artist:0Y5tJX1MQlPlqiwlOH1tJY'}, {'external_urls': {'spotify': 'https://open.spotify.com/artist/4V8LLVI7PbaPR0K2TGSxFF'}, 'followers': {'href': None, 'total': 9138496}, 'genres': ['hip hop', 'rap'], 'href': 'https://api.spotify.com/v1/artists/4V8LLVI7PbaPR0K2TGSxFF', 'id': '4V8LLVI7PbaPR0K2TGSxFF', 'images': [{'height': 640, 'url': 'https://i.scdn.co/image/ab6761610000e5eb8278b782cbb5a3963db88ada', 'width': 640}, {'height': 320, 'url': 'https://i.scdn.co/image/ab676161000051748278b782cbb5a3963db88ada', 'width': 320}, {'height': 160, 'url': 'https://i.scdn.co/image/ab6761610000f1788278b782cbb5a3963db88ada', 'width': 160}], 'name': 'Tyler, The Creator', 'popularity': 84, 'type': 'artist', 'uri': 'spotify:artist:4V8LLVI7PbaPR0K2TGSxFF'}, {'external_urls': {'spotify': 'https://open.spotify.com/artist/3kjuyTCjPG1WMFCiyc5IuB'}, 'followers': {'href': None, 'total': 2111028}, 'genres': ['baroque pop', 'canadian indie', 'indie rock', 'modern rock', 'new rave', 'permanent wave', 'quebec indie', 'rock'], 'href': 'https://api.spotify.com/v1/artists/3kjuyTCjPG1WMFCiyc5IuB', 'id': '3kjuyTCjPG1WMFCiyc5IuB', 'images': [{'height': 640, 'url': 'https://i.scdn.co/image/ab6761610000e5eba044e15eee771205956dcbf8', 'width': 640}, {'height': 320, 'url': 'https://i.scdn.co/image/ab67616100005174a044e15eee771205956dcbf8', 'width': 320}, {'height': 160, 'url': 'https://i.scdn.co/image/ab6761610000f178a044e15eee771205956dcbf8', 'width': 160}], 'name': 'Arcade Fire', 'popularity': 67, 'type': 'artist', 'uri': 'spotify:artist:3kjuyTCjPG1WMFCiyc5IuB'}, {'external_urls': {'spotify': 'https://open.spotify.com/artist/7Ln80lUS6He07XvHI8qqHH'}, 'followers': {'href': None, 'total': 14985008}, 'genres': ['garage rock', 'permanent wave', 'rock', 'sheffield indie'], 'href': 'https://api.spotify.com/v1/artists/7Ln80lUS6He07XvHI8qqHH', 'id': '7Ln80lUS6He07XvHI8qqHH', 'images': [{'height': 640, 'url': 'https://i.scdn.co/image/ab6761610000e5eb39f37a34b404169fdca52dc8', 'width': 640}, {'height': 320, 'url': 'https://i.scdn.co/image/ab6761610000517439f37a34b404169fdca52dc8', 'width': 320}, {'height': 160, 'url': 'https://i.scdn.co/image/ab6761610000f17839f37a34b404169fdca52dc8', 'width': 160}], 'name': 'Arctic Monkeys', 'popularity': 83, 'type': 'artist', 'uri': 'spotify:artist:7Ln80lUS6He07XvHI8qqHH'}, {'external_urls': {'spotify': 'https://open.spotify.com/artist/3WaJSfKnzc65VDgmj2zU8B'}, 'followers': {'href': None, 'total': 1434954}, 'genres': ['alternative dance', 'alternative rock', 'indie rock', 'modern rock', 'new rave', 'rock'], 'href': 'https://api.spotify.com/v1/artists/3WaJSfKnzc65VDgmj2zU8B', 'id': '3WaJSfKnzc65VDgmj2zU8B', 'images': [{'height': 640, 'url': 'https://i.scdn.co/image/ab6761610000e5eb120d51babe5e6770b00ac3c6', 'width': 640}, {'height': 320, 'url': 'https://i.scdn.co/image/ab67616100005174120d51babe5e6770b00ac3c6', 'width': 320}, {'height': 160, 'url': 'https://i.scdn.co/image/ab6761610000f178120d51babe5e6770b00ac3c6', 'width': 160}], 'name': 'Interpol', 'popularity': 63, 'type': 'artist', 'uri': 'spotify:artist:3WaJSfKnzc65VDgmj2zU8B'}, {'external_urls': {'spotify': 'https://open.spotify.com/artist/13ubrt8QOOCPljQ2FL1Kca'}, 'followers': {'href': None, 'total': 11398329}, 'genres': ['east coast hip hop', 'hip hop', 'rap', 'trap'], 'href': 'https://api.spotify.com/v1/artists/13ubrt8QOOCPljQ2FL1Kca', 'id': '13ubrt8QOOCPljQ2FL1Kca', 'images': [{'height': 640, 'url': 'https://i.scdn.co/image/ab6761610000e5ebee452efcf24aa4124fb28d94', 'width': 640}, {'height': 320, 'url': 'https://i.scdn.co/image/ab67616100005174ee452efcf24aa4124fb28d94', 'width': 320}, {'height': 160, 'url': 'https://i.scdn.co/image/ab6761610000f178ee452efcf24aa4124fb28d94', 'width': 160}], 'name': 'A$AP Rocky', 'popularity': 80, 'type': 'artist', 'uri': 'spotify:artist:13ubrt8QOOCPljQ2FL1Kca'}, {'external_urls': {'spotify': 'https://open.spotify.com/artist/2h93pZq0e7k5yf4dywlkpM'}, 'followers': {'href': None, 'total': 9660167}, 'genres': ['alternative r&b', 'hip hop', 'lgbtq+ hip hop', 'neo soul', 'pop'], 'href': 'https://api.spotify.com/v1/artists/2h93pZq0e7k5yf4dywlkpM', 'id': '2h93pZq0e7k5yf4dywlkpM', 'images': [{'height': 640, 'url': 'https://i.scdn.co/image/ab6761610000e5ebfbc3faec4a370d8393bee7f1', 'width': 640}, {'height': 320, 'url': 'https://i.scdn.co/image/ab67616100005174fbc3faec4a370d8393bee7f1', 'width': 320}, {'height': 160, 'url': 'https://i.scdn.co/image/ab6761610000f178fbc3faec4a370d8393bee7f1', 'width': 160}], 'name': 'Frank Ocean', 'popularity': 81, 'type': 'artist', 'uri': 'spotify:artist:2h93pZq0e7k5yf4dywlkpM'}, {'external_urls': {'spotify': 'https://open.spotify.com/artist/6aaMZ3fcfLv4tEbmY7bjRM'}, 'followers': {'href': None, 'total': 1161847}, 'genres': ['hip hop', 'rap', 'tennessee hip hop', 'underground hip hop'], 'href': 'https://api.spotify.com/v1/artists/6aaMZ3fcfLv4tEbmY7bjRM', 'id': '6aaMZ3fcfLv4tEbmY7bjRM', 'images': [{'height': 640, 'url': 'https://i.scdn.co/image/ab6761610000e5eb1ff1685224034e6c12538722', 'width': 640}, {'height': 320, 'url': 'https://i.scdn.co/image/ab676161000051741ff1685224034e6c12538722', 'width': 320}, {'height': 160, 'url': 'https://i.scdn.co/image/ab6761610000f1781ff1685224034e6c12538722', 'width': 160}], 'name': 'Isaiah Rashad', 'popularity': 66, 'type': 'artist', 'uri': 'spotify:artist:6aaMZ3fcfLv4tEbmY7bjRM'}, {'external_urls': {'spotify': 'https://open.spotify.com/artist/70cRZdQywnSFp9pnc2WTCE'}, 'followers': {'href': None, 'total': 4138313}, 'genres': ['classic rock', 'folk', 'folk rock', 'melancholia', 'mellow gold', 'rock'], 'href': 'https://api.spotify.com/v1/artists/70cRZdQywnSFp9pnc2WTCE', 'id': '70cRZdQywnSFp9pnc2WTCE', 'images': [{'height': 1241, 'url': 'https://i.scdn.co/image/afde2fdd14f8c8ca23393f257e3a369a234a24b6', 'width': 1000}, {'height': 794, 'url': 'https://i.scdn.co/image/3bffe5e67788e9e64a4f8368f1010f20c269d518', 'width': 640}, {'height': 248, 'url': 'https://i.scdn.co/image/852145f3972cb8b6c431ca7b1c9d5bc839a8a06a', 'width': 200}, {'height': 79, 'url': 'https://i.scdn.co/image/b32f349333d0710b002b0439fc504558e46bcb07', 'width': 64}], 'name': 'Simon & Garfunkel', 'popularity': 70, 'type': 'artist', 'uri': 'spotify:artist:70cRZdQywnSFp9pnc2WTCE'}, {'external_urls': {'spotify': 'https://open.spotify.com/artist/4tZwfgrHOc3mvqYlEYSvVi'}, 'followers': {'href': None, 'total': 9035213}, 'genres': ['electro', 'filter house'], 'href': 'https://api.spotify.com/v1/artists/4tZwfgrHOc3mvqYlEYSvVi', 'id': '4tZwfgrHOc3mvqYlEYSvVi', 'images': [{'height': 640, 'url': 'https://i.scdn.co/image/ab6761610000e5eb96d66c60658005885d1135ce', 'width': 640}, {'height': 320, 'url': 'https://i.scdn.co/image/ab6761610000517496d66c60658005885d1135ce', 'width': 320}, {'height': 160, 'url': 'https://i.scdn.co/image/ab6761610000f17896d66c60658005885d1135ce', 'width': 160}], 'name': 'Daft Punk', 'popularity': 78, 'type': 'artist', 'uri': 'spotify:artist:4tZwfgrHOc3mvqYlEYSvVi'}, {'external_urls': {'spotify': 'https://open.spotify.com/artist/7pbDxGE6nQSZVfiFdq9lOL'}, 'followers': {'href': None, 'total': 4170670}, 'genres': ['bedroom pop', 'pop'], 'href': 'https://api.spotify.com/v1/artists/7pbDxGE6nQSZVfiFdq9lOL', 'id': '7pbDxGE6nQSZVfiFdq9lOL', 'images': [{'height': 640, 'url': 'https://i.scdn.co/image/ab6761610000e5eb50013041518600229448921d', 'width': 640}, {'height': 320, 'url': 'https://i.scdn.co/image/ab6761610000517450013041518600229448921d', 'width': 320}, {'height': 160, 'url': 'https://i.scdn.co/image/ab6761610000f17850013041518600229448921d', 'width': 160}], 'name': 'Rex Orange County', 'popularity': 77, 'type': 'artist', 'uri': 'spotify:artist:7pbDxGE6nQSZVfiFdq9lOL'}, {'external_urls': {'spotify': 'https://open.spotify.com/artist/68kEuyFKyqrdQQLLsmiatm'}, 'followers': {'href': None, 'total': 1618646}, 'genres': ['conscious hip hop', 'escape room', 'hip hop', 'rap', 'underground hip hop'], 'href': 'https://api.spotify.com/v1/artists/68kEuyFKyqrdQQLLsmiatm', 'id': '68kEuyFKyqrdQQLLsmiatm', 'images': [{'height': 640, 'url': 'https://i.scdn.co/image/ab6761610000e5eb53054f8bc7e0153daefe12cc', 'width': 640}, {'height': 320, 'url': 'https://i.scdn.co/image/ab6761610000517453054f8bc7e0153daefe12cc', 'width': 320}, {'height': 160, 'url': 'https://i.scdn.co/image/ab6761610000f17853054f8bc7e0153daefe12cc', 'width': 160}], 'name': 'Vince Staples', 'popularity': 68, 'type': 'artist', 'uri': 'spotify:artist:68kEuyFKyqrdQQLLsmiatm'}, {'external_urls': {'spotify': 'https://open.spotify.com/artist/73sIBHcqh3Z3NyqHKZ7FOL'}, 'followers': {'href': None, 'total': 9553903}, 'genres': ['atl hip hop', 'hip hop', 'rap'], 'href': 'https://api.spotify.com/v1/artists/73sIBHcqh3Z3NyqHKZ7FOL', 'id': '73sIBHcqh3Z3NyqHKZ7FOL', 'images': [{'height': 640, 'url': 'https://i.scdn.co/image/ab6761610000e5eb3ef779aa0d271adb2b6a3ded', 'width': 640}, {'height': 320, 'url': 'https://i.scdn.co/image/ab676161000051743ef779aa0d271adb2b6a3ded', 'width': 320}, {'height': 160, 'url': 'https://i.scdn.co/image/ab6761610000f1783ef779aa0d271adb2b6a3ded', 'width': 160}], 'name': 'Childish Gambino', 'popularity': 77, 'type': 'artist', 'uri': 'spotify:artist:73sIBHcqh3Z3NyqHKZ7FOL'}, {'external_urls': {'spotify': 'https://open.spotify.com/artist/3WrFJ7ztbogyGnTHbHJFl2'}, 'followers': {'href': None, 'total': 23092572}, 'genres': ['beatlesque', 'british invasion', 'classic rock', 'merseybeat', 'psychedelic rock', 'rock'], 'href': 'https://api.spotify.com/v1/artists/3WrFJ7ztbogyGnTHbHJFl2', 'id': '3WrFJ7ztbogyGnTHbHJFl2', 'images': [{'height': 640, 'url': 'https://i.scdn.co/image/ab6761610000e5ebe9348cc01ff5d55971b22433', 'width': 640}, {'height': 320, 'url': 'https://i.scdn.co/image/ab67616100005174e9348cc01ff5d55971b22433', 'width': 320}, {'height': 160, 'url': 'https://i.scdn.co/image/ab6761610000f178e9348cc01ff5d55971b22433', 'width': 160}], 'name': 'The Beatles', 'popularity': 82, 'type': 'artist', 'uri': 'spotify:artist:3WrFJ7ztbogyGnTHbHJFl2'}, {'external_urls': {'spotify': 'https://open.spotify.com/artist/6fxyWrfmjcbj5d12gXeiNV'}, 'followers': {'href': None, 'total': 1891825}, 'genres': ['dark trap', 'drill', 'hip hop', 'miami hip hop', 'rap', 'underground hip hop'], 'href': 'https://api.spotify.com/v1/artists/6fxyWrfmjcbj5d12gXeiNV', 'id': '6fxyWrfmjcbj5d12gXeiNV', 'images': [{'height': 640, 'url': 'https://i.scdn.co/image/ab6761610000e5ebb00f2e31d509ddc6fa0eb24b', 'width': 640}, {'height': 320, 'url': 'https://i.scdn.co/image/ab67616100005174b00f2e31d509ddc6fa0eb24b', 'width': 320}, {'height': 160, 'url': 'https://i.scdn.co/image/ab6761610000f178b00f2e31d509ddc6fa0eb24b', 'width': 160}], 'name': 'Denzel Curry', 'popularity': 72, 'type': 'artist', 'uri': 'spotify:artist:6fxyWrfmjcbj5d12gXeiNV'}, {'external_urls': {'spotify': 'https://open.spotify.com/artist/536BYVgOnRky0xjsPT96zl'}, 'followers': {'href': None, 'total': 2177602}, 'genres': ['indie rock', 'indietronica', 'irish rock', 'modern alternative rock', 'modern rock', 'northern irish indie', 'rock'], 'href': 'https://api.spotify.com/v1/artists/536BYVgOnRky0xjsPT96zl', 'id': '536BYVgOnRky0xjsPT96zl', 'images': [{'height': 640, 'url': 'https://i.scdn.co/image/ab6761610000e5ebf426f143c46ff54d8486f2d0', 'width': 640}, {'height': 320, 'url': 'https://i.scdn.co/image/ab67616100005174f426f143c46ff54d8486f2d0', 'width': 320}, {'height': 160, 'url': 'https://i.scdn.co/image/ab6761610000f178f426f143c46ff54d8486f2d0', 'width': 160}], 'name': 'Two Door Cinema Club', 'popularity': 67, 'type': 'artist', 'uri': 'spotify:artist:536BYVgOnRky0xjsPT96zl'}, {'external_urls': {'spotify': 'https://open.spotify.com/artist/0SwO7SWeDHJijQ3XNS7xEE'}, 'followers': {'href': None, 'total': 2565586}, 'genres': ['alternative rock', 'indie rock', 'indietronica', 'modern rock', 'rock'], 'href': 'https://api.spotify.com/v1/artists/0SwO7SWeDHJijQ3XNS7xEE', 'id': '0SwO7SWeDHJijQ3XNS7xEE', 'images': [{'height': 640, 'url': 'https://i.scdn.co/image/ab6761610000e5eb089bb3257ef5b3fab2a3c90d', 'width': 640}, {'height': 320, 'url': 'https://i.scdn.co/image/ab67616100005174089bb3257ef5b3fab2a3c90d', 'width': 320}, {'height': 160, 'url': 'https://i.scdn.co/image/ab6761610000f178089bb3257ef5b3fab2a3c90d', 'width': 160}], 'name': 'MGMT', 'popularity': 73, 'type': 'artist', 'uri': 'spotify:artist:0SwO7SWeDHJijQ3XNS7xEE'}, {'external_urls': {'spotify': 'https://open.spotify.com/artist/20qISvAhX20dpIbOOzGK3q'}, 'followers': {'href': None, 'total': 2899427}, 'genres': ['conscious hip hop', 'east coast hip hop', 'gangster rap', 'hardcore hip hop', 'hip hop', 'queens hip hop', 'rap'], 'href': 'https://api.spotify.com/v1/artists/20qISvAhX20dpIbOOzGK3q', 'id': '20qISvAhX20dpIbOOzGK3q', 'images': [{'height': 640, 'url': 'https://i.scdn.co/image/ab6761610000e5ebf7d9deb32a290a5ba574ee1c', 'width': 640}, {'height': 320, 'url': 'https://i.scdn.co/image/ab67616100005174f7d9deb32a290a5ba574ee1c', 'width': 320}, {'height': 160, 'url': 'https://i.scdn.co/image/ab6761610000f178f7d9deb32a290a5ba574ee1c', 'width': 160}], 'name': 'Nas', 'popularity': 72, 'type': 'artist', 'uri': 'spotify:artist:20qISvAhX20dpIbOOzGK3q'}, {'external_urls': {'spotify': 'https://open.spotify.com/artist/2QoU3awHVdcHS8LrZEKvSM'}, 'followers': {'href': None, 'total': 653986}, 'genres': ['alternative country', 'alternative rock', 'chicago indie', 'indie pop', 'indie rock', 'roots rock'], 'href': 'https://api.spotify.com/v1/artists/2QoU3awHVdcHS8LrZEKvSM', 'id': '2QoU3awHVdcHS8LrZEKvSM', 'images': [{'height': 640, 'url': 'https://i.scdn.co/image/ab6761610000e5eb872e20b58593fc71c8b06409', 'width': 640}, {'height': 320, 'url': 'https://i.scdn.co/image/ab67616100005174872e20b58593fc71c8b06409', 'width': 320}, {'height': 160, 'url': 'https://i.scdn.co/image/ab6761610000f178872e20b58593fc71c8b06409', 'width': 160}], 'name': 'Wilco', 'popularity': 61, 'type': 'artist', 'uri': 'spotify:artist:2QoU3awHVdcHS8LrZEKvSM'}, {'external_urls': {'spotify': 'https://open.spotify.com/artist/26T3LtbuGT1Fu9m0eRq5X3'}, 'followers': {'href': None, 'total': 2930675}, 'genres': ['modern alternative rock', 'modern rock', 'punk blues', 'rock'], 'href': 'https://api.spotify.com/v1/artists/26T3LtbuGT1Fu9m0eRq5X3', 'id': '26T3LtbuGT1Fu9m0eRq5X3', 'images': [{'height': 640, 'url': 'https://i.scdn.co/image/ab6761610000e5eb7d994f7e137c10249de19455', 'width': 640}, {'height': 320, 'url': 'https://i.scdn.co/image/ab676161000051747d994f7e137c10249de19455', 'width': 320}, {'height': 160, 'url': 'https://i.scdn.co/image/ab6761610000f1787d994f7e137c10249de19455', 'width': 160}], 'name': 'Cage The Elephant', 'popularity': 73, 'type': 'artist', 'uri': 'spotify:artist:26T3LtbuGT1Fu9m0eRq5X3'}, {'external_urls': {'spotify': 'https://open.spotify.com/artist/1vCWHaC5f2uS3yhpwWbIA6'}, 'followers': {'href': None, 'total': 21887358}, 'genres': ['dance pop', 'edm', 'pop', 'pop dance', 'pop rap'], 'href': 'https://api.spotify.com/v1/artists/1vCWHaC5f2uS3yhpwWbIA6', 'id': '1vCWHaC5f2uS3yhpwWbIA6', 'images': [{'height': 640, 'url': 'https://i.scdn.co/image/ab6761610000e5eb09bf4814c6585e1f69dfeef7', 'width': 640}, {'height': 320, 'url': 'https://i.scdn.co/image/ab6761610000517409bf4814c6585e1f69dfeef7', 'width': 320}, {'height': 160, 'url': 'https://i.scdn.co/image/ab6761610000f17809bf4814c6585e1f69dfeef7', 'width': 160}], 'name': 'Avicii', 'popularity': 79, 'type': 'artist', 'uri': 'spotify:artist:1vCWHaC5f2uS3yhpwWbIA6'}, {'external_urls': {'spotify': 'https://open.spotify.com/artist/40Yq4vzPs9VNUrIBG5Jr2i'}, 'followers': {'href': None, 'total': 3984964}, 'genres': ['alternative metal', 'alternative rock', 'grunge', 'permanent wave', 'pop rock', 'rock', 'spacegrunge'], 'href': 'https://api.spotify.com/v1/artists/40Yq4vzPs9VNUrIBG5Jr2i', 'id': '40Yq4vzPs9VNUrIBG5Jr2i', 'images': [{'height': 640, 'url': 'https://i.scdn.co/image/ab6761610000e5eb1a7d0845c3b7e2f130264957', 'width': 640}, {'height': 320, 'url': 'https://i.scdn.co/image/ab676161000051741a7d0845c3b7e2f130264957', 'width': 320}, {'height': 160, 'url': 'https://i.scdn.co/image/ab6761610000f1781a7d0845c3b7e2f130264957', 'width': 160}], 'name': 'The Smashing Pumpkins', 'popularity': 70, 'type': 'artist', 'uri': 'spotify:artist:40Yq4vzPs9VNUrIBG5Jr2i'}, {'external_urls': {'spotify': 'https://open.spotify.com/artist/2CvCyf1gEVhI0mX6aFXmVI'}, 'followers': {'href': None, 'total': 1893183}, 'genres': ['classic rock', 'folk', 'folk rock', 'indie r&b', 'mellow gold', 'permanent wave', 'rock', 'roots rock', 'singer-songwriter', 'soft rock'], 'href': 'https://api.spotify.com/v1/artists/2CvCyf1gEVhI0mX6aFXmVI', 'id': '2CvCyf1gEVhI0mX6aFXmVI', 'images': [{'height': 640, 'url': 'https://i.scdn.co/image/ab6761610000e5eb1f764c8f69b595efe77e1c45', 'width': 640}, {'height': 320, 'url': 'https://i.scdn.co/image/ab676161000051741f764c8f69b595efe77e1c45', 'width': 320}, {'height': 160, 'url': 'https://i.scdn.co/image/ab6761610000f1781f764c8f69b595efe77e1c45', 'width': 160}], 'name': 'Paul Simon', 'popularity': 67, 'type': 'artist', 'uri': 'spotify:artist:2CvCyf1gEVhI0mX6aFXmVI'}, {'external_urls': {'spotify': 'https://open.spotify.com/artist/3ApUX1o6oSz321MMECyIYd'}, 'followers': {'href': None, 'total': 706184}, 'genres': ['electropop', 'indie pop rap', 'pop', 'pop rap'], 'href': 'https://api.spotify.com/v1/artists/3ApUX1o6oSz321MMECyIYd', 'id': '3ApUX1o6oSz321MMECyIYd', 'images': [{'height': 640, 'url': 'https://i.scdn.co/image/ab6761610000e5ebc5bf602162d30b7133cfe96a', 'width': 640}, {'height': 320, 'url': 'https://i.scdn.co/image/ab67616100005174c5bf602162d30b7133cfe96a', 'width': 320}, {'height': 160, 'url': 'https://i.scdn.co/image/ab6761610000f178c5bf602162d30b7133cfe96a', 'width': 160}], 'name': 'Quinn XCII', 'popularity': 67, 'type': 'artist', 'uri': 'spotify:artist:3ApUX1o6oSz321MMECyIYd'}, {'external_urls': {'spotify': 'https://open.spotify.com/artist/4Z8W4fKeB5YxbusRsdQVPb'}, 'followers': {'href': None, 'total': 7247565}, 'genres': ['alternative rock', 'art rock', 'melancholia', 'oxford indie', 'permanent wave', 'rock'], 'href': 'https://api.spotify.com/v1/artists/4Z8W4fKeB5YxbusRsdQVPb', 'id': '4Z8W4fKeB5YxbusRsdQVPb', 'images': [{'height': 640, 'url': 'https://i.scdn.co/image/ab6761610000e5eba03696716c9ee605006047fd', 'width': 640}, {'height': 320, 'url': 'https://i.scdn.co/image/ab67616100005174a03696716c9ee605006047fd', 'width': 320}, {'height': 160, 'url': 'https://i.scdn.co/image/ab6761610000f178a03696716c9ee605006047fd', 'width': 160}], 'name': 'Radiohead', 'popularity': 77, 'type': 'artist', 'uri': 'spotify:artist:4Z8W4fKeB5YxbusRsdQVPb'}, {'external_urls': {'spotify': 'https://open.spotify.com/artist/7CajNmpbOovFoOoasH2HaY'}, 'followers': {'href': None, 'total': 22863939}, 'genres': ['dance pop', 'edm', 'electro house', 'house', 'pop', 'progressive house', 'uk dance'], 'href': 'https://api.spotify.com/v1/artists/7CajNmpbOovFoOoasH2HaY', 'id': '7CajNmpbOovFoOoasH2HaY', 'images': [{'height': 640, 'url': 'https://i.scdn.co/image/ab6761610000e5eb578905d5539cff25568dc097', 'width': 640}, {'height': 320, 'url': 'https://i.scdn.co/image/ab67616100005174578905d5539cff25568dc097', 'width': 320}, {'height': 160, 'url': 'https://i.scdn.co/image/ab6761610000f178578905d5539cff25568dc097', 'width': 160}], 'name': 'Calvin Harris', 'popularity': 84, 'type': 'artist', 'uri': 'spotify:artist:7CajNmpbOovFoOoasH2HaY'}, {'external_urls': {'spotify': 'https://open.spotify.com/artist/1anyVhU62p31KFi8MEzkbf'}, 'followers': {'href': None, 'total': 5692861}, 'genres': ['chicago rap', 'conscious hip hop', 'hip hop', 'pop rap', 'rap'], 'href': 'https://api.spotify.com/v1/artists/1anyVhU62p31KFi8MEzkbf', 'id': '1anyVhU62p31KFi8MEzkbf', 'images': [{'height': 640, 'url': 'https://i.scdn.co/image/ab6761610000e5ebef7b862a9407492169432f88', 'width': 640}, {'height': 320, 'url': 'https://i.scdn.co/image/ab67616100005174ef7b862a9407492169432f88', 'width': 320}, {'height': 160, 'url': 'https://i.scdn.co/image/ab6761610000f178ef7b862a9407492169432f88', 'width': 160}], 'name': 'Chance the Rapper', 'popularity': 75, 'type': 'artist', 'uri': 'spotify:artist:1anyVhU62p31KFi8MEzkbf'}, {'external_urls': {'spotify': 'https://open.spotify.com/artist/7jy3rLJdDQY21OgRLCZ9sD'}, 'followers': {'href': None, 'total': 10041208}, 'genres': ['alternative metal', 'alternative rock', 'modern rock', 'permanent wave', 'post-grunge', 'rock'], 'href': 'https://api.spotify.com/v1/artists/7jy3rLJdDQY21OgRLCZ9sD', 'id': '7jy3rLJdDQY21OgRLCZ9sD', 'images': [{'height': 640, 'url': 'https://i.scdn.co/image/ab6761610000e5eb9a43b87b50cd3d03544bb3e5', 'width': 640}, {'height': 320, 'url': 'https://i.scdn.co/image/ab676161000051749a43b87b50cd3d03544bb3e5', 'width': 320}, {'height': 160, 'url': 'https://i.scdn.co/image/ab6761610000f1789a43b87b50cd3d03544bb3e5', 'width': 160}], 'name': 'Foo Fighters', 'popularity': 75, 'type': 'artist', 'uri': 'spotify:artist:7jy3rLJdDQY21OgRLCZ9sD'}, {'external_urls': {'spotify': 'https://open.spotify.com/artist/6zFYqv1mOsgBRQbae3JJ9e'}, 'followers': {'href': None, 'total': 4411361}, 'genres': ['classic rock', 'folk rock', 'mellow gold', 'piano rock', 'rock', 'singer-songwriter', 'soft rock'], 'href': 'https://api.spotify.com/v1/artists/6zFYqv1mOsgBRQbae3JJ9e', 'id': '6zFYqv1mOsgBRQbae3JJ9e', 'images': [{'height': 640, 'url': 'https://i.scdn.co/image/ab6761610000e5ebc152fc4fed805e8a82ed950b', 'width': 640}, {'height': 320, 'url': 'https://i.scdn.co/image/ab67616100005174c152fc4fed805e8a82ed950b', 'width': 320}, {'height': 160, 'url': 'https://i.scdn.co/image/ab6761610000f178c152fc4fed805e8a82ed950b', 'width': 160}], 'name': 'Billy Joel', 'popularity': 75, 'type': 'artist', 'uri': 'spotify:artist:6zFYqv1mOsgBRQbae3JJ9e'}, {'external_urls': {'spotify': 'https://open.spotify.com/artist/0bdfiayQAKewqEvaU6rXCv'}, 'followers': {'href': None, 'total': 1384494}, 'genres': ['dance pop', 'danish pop', 'electropop', 'pop', 'tropical house', 'uk pop'], 'href': 'https://api.spotify.com/v1/artists/0bdfiayQAKewqEvaU6rXCv', 'id': '0bdfiayQAKewqEvaU6rXCv', 'images': [{'height': 640, 'url': 'https://i.scdn.co/image/ab6761610000e5eb903bbd69a4413930bb99d063', 'width': 640}, {'height': 320, 'url': 'https://i.scdn.co/image/ab67616100005174903bbd69a4413930bb99d063', 'width': 320}, {'height': 160, 'url': 'https://i.scdn.co/image/ab6761610000f178903bbd69a4413930bb99d063', 'width': 160}], 'name': 'MØ', 'popularity': 69, 'type': 'artist', 'uri': 'spotify:artist:0bdfiayQAKewqEvaU6rXCv'}, {'external_urls': {'spotify': 'https://open.spotify.com/artist/4xRYI6VqpkE3UwrDrAZL8L'}, 'followers': {'href': None, 'total': 5752389}, 'genres': ['conscious hip hop', 'dmv rap', 'hip hop', 'pop rap', 'rap'], 'href': 'https://api.spotify.com/v1/artists/4xRYI6VqpkE3UwrDrAZL8L', 'id': '4xRYI6VqpkE3UwrDrAZL8L', 'images': [{'height': 640, 'url': 'https://i.scdn.co/image/ab6761610000e5ebc0f43abdba90d508842d7367', 'width': 640}, {'height': 320, 'url': 'https://i.scdn.co/image/ab67616100005174c0f43abdba90d508842d7367', 'width': 320}, {'height': 160, 'url': 'https://i.scdn.co/image/ab6761610000f178c0f43abdba90d508842d7367', 'width': 160}], 'name': 'Logic', 'popularity': 77, 'type': 'artist', 'uri': 'spotify:artist:4xRYI6VqpkE3UwrDrAZL8L'}], 'total': 50, 'limit': 50, 'offset': 0, 'href': 'https://api.spotify.com/v1/me/top/artists?limit=50&offset=0', 'previous': None, 'next': None}\n",
            "['rap', 'hop', 'rock', 'r&b', 'pop', 'dance', 'electro', 'beatlesque', 'trap', 'country', 'metal', 'electropop']\n",
            "[3, 19, 12, 2, 6, 1, 1, 1, 1, 1, 2, 1]\n"
          ]
        }
      ]
    },
    {
      "cell_type": "code",
      "source": [
        "#edit \"hop\" genre name to be \"hip hop\" (for chart)\n",
        "j=0\n",
        "for i in topGenres:\n",
        "  if i == 'hop':\n",
        "    topGenres[j] = 'hip hop'\n",
        "  j = j+1\n",
        "\n",
        "#visualize top genres as a bar chart\n",
        "plt.figure(figsize=(12, 6))\n",
        "New_Colors = ['green','blue','purple','brown','teal']\n",
        "plt.bar(topGenres, topGenresAmt, color=New_Colors)\n",
        "plt.title('Top Genres', fontsize=14)\n",
        "plt.xlabel('')\n",
        "plt.ylabel('')\n",
        "plt.gca().get_yaxis().set_visible(False)\n",
        "plt.show()\n"
      ],
      "metadata": {
        "colab": {
          "base_uri": "https://localhost:8080/",
          "height": 441
        },
        "id": "-CMQaAK5woJh",
        "outputId": "c4ee71f1-b174-4527-96f5-346f9cbd48a7"
      },
      "execution_count": 115,
      "outputs": [
        {
          "output_type": "display_data",
          "data": {
            "text/plain": [
              "<Figure size 864x432 with 1 Axes>"
            ],
            "image/png": "[encoded data removed]"
          },
          "metadata": {
            "needs_background": "light"
          }
        }
      ]
    },
    {
      "cell_type": "code",
      "source": [
        "#Genres\n",
        "#get location of top 3 most listened genres in topGenres array\n",
        "\n",
        "gen_loc1 = -1\n",
        "gen_loc2 = -1\n",
        "gen_loc3 = -1\n",
        "for i in range(len(topGenresAmt)):\n",
        "  if gen_loc3 < 0 | topGenresAmt[i] >= topGenresAmt[gen_loc3]:\n",
        "    if gen_loc2 < 0 | topGenresAmt[i] >= topGenresAmt[gen_loc2]:\n",
        "      if gen_loc1 < 0 | topGenresAmt[i] >= topGenresAmt[gen_loc1]:\n",
        "        gen_loc3 = gen_loc2\n",
        "        gen_loc2 = gen_loc1\n",
        "        gen_loc1 = i\n",
        "      else:\n",
        "        gen_loc3 = gen_loc2\n",
        "        gen_loc2 = i\n",
        "    else:\n",
        "      gen_loc3 = i\n",
        "\n",
        "\n",
        "\n",
        "#Artists\n",
        "#get Spotify IDs of top-2 most listened artists for each genre\n",
        "\n",
        "#genre 1\n",
        "gen1 = topGenres[gen_loc1]\n",
        "genre1Artists = []\n",
        "for t in topTracks['items']:\n",
        "  artist = t['id']\n",
        "  if len(t['genres']) > 0:\n",
        "    genre = t['genres'][0].split().pop(-1)\n",
        "    if genre == gen1.split().pop(-1):\n",
        "      genre1Artists.append(artist)\n",
        "    if len(genre1Artists) == 2:\n",
        "      break\n",
        "\n",
        "#genre 2\n",
        "gen2 = topGenres[gen_loc2]\n",
        "genre2Artists = []\n",
        "for t in topTracks['items']:\n",
        "  artist = t['id']\n",
        "  if len(t['genres']) > 0:\n",
        "    genre = t['genres'][0].split().pop(-1)\n",
        "    if genre == gen2.split().pop(-1):\n",
        "      genre2Artists.append(artist)\n",
        "    if len(genre2Artists) == 2:\n",
        "      break\n",
        "\n",
        "#genre 3\n",
        "gen3 = topGenres[gen_loc3]\n",
        "genre3Artists = []\n",
        "for t in topTracks['items']:\n",
        "  artist = t['id']\n",
        "  if len(t['genres']) > 0:\n",
        "    genre = t['genres'][0].split().pop(-1)\n",
        "    if genre == gen3.split().pop(-1):\n",
        "      genre3Artists.append(artist)\n",
        "    if len(genre3Artists) == 2:\n",
        "      break\n",
        "\n",
        "print(genre1Artists)\n",
        "print(genre2Artists)\n",
        "print(genre3Artists)\n"
      ],
      "metadata": {
        "colab": {
          "base_uri": "https://localhost:8080/"
        },
        "id": "uOJMvupKkkyc",
        "outputId": "e4f66ba6-6e85-4258-fc8e-69508fbc8c46"
      },
      "execution_count": 39,
      "outputs": [
        {
          "output_type": "stream",
          "name": "stdout",
          "text": [
            "['4LLpKhyESsyAXpc4laK94U', '2YZyLoL8N0Wb9xBt1NhZWg']\n",
            "['0L8ExT028jH3ddEcZwqJJ5', '0epOFNiUfyON9EYx7Tpr6V']\n",
            "['6qqNVTkY8uBg9cP3Jd7DAH', '3kjuyTCjPG1WMFCiyc5IuB']\n"
          ]
        }
      ]
    },
    {
      "cell_type": "code",
      "source": [
        "#Tracks\n",
        "#get top-2 most listened tracks for each genre\n",
        "#if a song in your top tracks is made by one of your top two artists (genre specific), it gets added\n",
        "\n",
        "user_type = \"tracks\"\n",
        "\n",
        "endpoint = \"https://api.spotify.com/v1/me/top/\"\n",
        "\n",
        "user_header =  {\"Authorization\": f\"Bearer {user1_access_token}\"}\n",
        "\n",
        "final_url = f\"{endpoint}{user_type}?limit=200\"\n",
        "\n",
        "r = requests.get(final_url, headers=user_header)\n",
        "\n",
        "tracks = r.json()\n",
        "\n",
        "\n",
        "#genre 1 tracks\n",
        "genre1Tracks = []\n",
        "for t in tracks['items']:\n",
        "  artist = t['artists']\n",
        "  for a in artist:\n",
        "    name = a['id']\n",
        "    for i in genre1Artists:\n",
        "      if name == i:\n",
        "        song = t['id']\n",
        "        genre1Tracks.append(song)\n",
        "  if (len(genre1Tracks) == 2):\n",
        "    break\n",
        "\n",
        "#genre 2 tracks\n",
        "genre2Tracks = []\n",
        "for t in tracks['items']:\n",
        "  artist = t['artists']\n",
        "  for a in artist:\n",
        "    name = a['id']\n",
        "    for i in genre2Artists:\n",
        "      if name == i:\n",
        "        song = t['id']\n",
        "        genre2Tracks.append(song)\n",
        "  if (len(genre2Tracks) == 2):\n",
        "    break\n",
        "\n",
        "#genre 3 tracks\n",
        "genre3Tracks = []\n",
        "for t in tracks['items']:\n",
        "  artist = t['artists']\n",
        "  for a in artist:\n",
        "    name = a['id']\n",
        "    for i in genre3Artists:\n",
        "      if name == i:\n",
        "        song = t['id']\n",
        "        genre3Tracks.append(song)\n",
        "  if (len(genre3Tracks) == 2):\n",
        "    break\n",
        "\n",
        "#if no tracks found, that is okay, it means of your top two artists (per genre) none of your top tracks are by them\n",
        "\n",
        "print(genre1Tracks)\n",
        "print(genre2Tracks)\n",
        "print(genre3Tracks)"
      ],
      "metadata": {
        "colab": {
          "base_uri": "https://localhost:8080/"
        },
        "id": "mAzeFX1ZwYYv",
        "outputId": "54ef1f56-67f0-43e8-8f01-143222f85d82"
      },
      "execution_count": 42,
      "outputs": [
        {
          "output_type": "stream",
          "name": "stdout",
          "text": [
            "['2EFqMCOdTTkcFYHoJH21Jr', '388jD8ko9cvFM9cd9TYDrl']\n",
            "['7hm4HTk9encxT0LYC0J6oI', '10Nmj3JCNoMeBQ87uw5j8k']\n",
            "['1RGasjWLZ4qMN7wbtkLa3u', '2UWdUez9MB9yzL7Y81Mcip']\n"
          ]
        }
      ]
    },
    {
      "cell_type": "code",
      "source": [
        "#get recommended songs for each of top 3 genres, using users top artists (genre-specific), their top tracks, and selected genre\n",
        "\n",
        "endpoint = \"https://api.spotify.com/v1/recommendations?\"\n",
        "header =  {\"Authorization\": f\"Bearer {user1_access_token}\"}\n",
        "\n",
        "#genre 1 recommendations\n",
        "genre1Recs = []\n",
        "data = urlencode({\n",
        "    \"limit\": \"50\",\n",
        "    \"seed_artists\": f\"{','.join(genre1Artists)}\",\n",
        "    \"seed_genres\": f\"{topGenres[gen_loc1]}\",\n",
        "    \"seed_tracks\": f\"{','.join(genre1Tracks)}\"\n",
        "})\n",
        "url = f\"{endpoint}{data}\"\n",
        "r = requests.get(url, headers=header)\n",
        "recs = r.json()\n",
        "for r in recs['tracks']:\n",
        "  song_id = (r['uri'])\n",
        "  genre1Recs.append(song_id)\n",
        "\n",
        "#genre 2 recommendations\n",
        "genre2Recs = []\n",
        "data = urlencode({\n",
        "    \"limit\": \"50\",\n",
        "    \"seed_artists\": f\"{','.join(genre2Artists)}\",\n",
        "    \"seed_genres\": f\"{topGenres[gen_loc2]}\",\n",
        "    \"seed_tracks\": f\"{','.join(genre2Tracks)}\"\n",
        "})\n",
        "url = f\"{endpoint}{data}\"\n",
        "r = requests.get(url, headers=header)\n",
        "recs = r.json()\n",
        "for r in recs['tracks']:\n",
        "  song_id = (r['uri'])\n",
        "  genre2Recs.append(song_id)\n",
        "\n",
        "#genre 2 recommendations\n",
        "genre3Recs = []\n",
        "data = urlencode({\n",
        "    \"limit\": \"50\",\n",
        "    \"seed_artists\": f\"{','.join(genre3Artists)}\",\n",
        "    \"seed_genres\": f\"{topGenres[gen_loc3]}\",\n",
        "    \"seed_tracks\": f\"{','.join(genre3Tracks)}\"\n",
        "})\n",
        "url = f\"{endpoint}{data}\"\n",
        "r = requests.get(url, headers=header)\n",
        "recs = r.json()\n",
        "for r in recs['tracks']:\n",
        "  song_id = (r['uri'])\n",
        "  genre3Recs.append(song_id)\n",
        "\n",
        "print(genre1Recs)\n",
        "print(genre2Recs)\n",
        "print(genre3Recs)"
      ],
      "metadata": {
        "colab": {
          "base_uri": "https://localhost:8080/"
        },
        "id": "6HRoR96t8sP9",
        "outputId": "27dc2142-10a4-4395-95fb-8fcce5bdafc2"
      },
      "execution_count": 43,
      "outputs": [
        {
          "output_type": "stream",
          "name": "stdout",
          "text": [
            "['spotify:track:5hVghJ4KaYES3BFUATCYn0', 'spotify:track:4Aocy7YAyOYf5YHj18Vfj3', 'spotify:track:4YZbVct8l9MnAVIROnLQdx', 'spotify:track:75izAeHlGuOgA865CFDyIv', 'spotify:track:6Yqmv7XJLCrQEauMbPGZSw', 'spotify:track:7wTA0NKIm6T7nP2kaymU2a', 'spotify:track:0mCVNGC4Vvb6gDDQrDpaRh', 'spotify:track:4KDNRh9Oor80z3XIxdWlui', 'spotify:track:5sdkS8DXx8rXNLxbSos8GS', 'spotify:track:2LMkwUfqC6S6s6qDVlEuzV', 'spotify:track:4RVbK6cV0VqWdpCDcx3hiT', 'spotify:track:2Yv2mHzr5AQavVdwQjEokV', 'spotify:track:6tqIes4TjudsjfIpK4P2Jh', 'spotify:track:3J4VKkUpLvomXJbn9ZAypO', 'spotify:track:3e7Y6sfFlIdBMJhX7wpqVO', 'spotify:track:45WkcBtgPS8xulUwEg63X1', 'spotify:track:2jdw2tc29bqJwToyGvKgJm', 'spotify:track:44MHQm2WIvsAXg14WKpCQp', 'spotify:track:54Yappwod1fELR5zb2gDBn', 'spotify:track:4cxMGhkinTocPSVVKWIw0d', 'spotify:track:2cYqizR4lgvp4Qu6IQ3qGN', 'spotify:track:3iVcZ5G6tvkXZkZKlMpIUs', 'spotify:track:0uqsdBw9KvD8jSWmfMmMAp', 'spotify:track:21O0XXPEWPtePt5RMY93Ob', 'spotify:track:4nRKMlLUK5sLa8lmuEA9iv', 'spotify:track:2OQJKTtrH482waGFmOfJni', 'spotify:track:5VlTQnZO89Ioku8ssdbqJk', 'spotify:track:0qkA0NU7cDKWkFXNGRcNaB', 'spotify:track:1sOW4PuG5X3Ie3EXUhAopJ', 'spotify:track:7jhxagwOk9y1HC5ciRfmkQ', 'spotify:track:3I0FBDc1c1BLNtXWKVjmFg', 'spotify:track:20MuVazoNMv6xjKPnRFOxG', 'spotify:track:3a3dQOO19moXPeTt2PomoT', 'spotify:track:51rXHuKN8Loc4sUlKPODgH', 'spotify:track:474uVhyGgK5MtY9gMcDgGl', 'spotify:track:63EUqnpcphhZh8SbXagArw', 'spotify:track:3MAgQuClHcAV8E9CbeBS6f', 'spotify:track:7wBJfHzpfI3032CSD7CE2m', 'spotify:track:1TPLsNVlofwX1txcE9gZZF', 'spotify:track:2iu60eTIm2py6MaoVMcBAR', 'spotify:track:5NijSs5dAwaIybq1GaRTIe', 'spotify:track:17N5FdRwJuv3UXQ7MHnbhF', 'spotify:track:4KjnaUNYPwGnJjoeTFlt91', 'spotify:track:5gDWsRxpJ2lZAffh5p7K0w', 'spotify:track:3EG9FJ0ToLfgnc1IG2Z1wz', 'spotify:track:52A8OAP8lTQKZCj4Rce92B', 'spotify:track:4pNT8XTKWb2vhcsqwzdXCT', 'spotify:track:7b8aKAUn1BB2k1clevj4aB', 'spotify:track:30KctD1WsHKTIYczXjip5a', 'spotify:track:643PW82aBMUa1FiWi5VQY7']\n",
            "['spotify:track:0jBE7Fn78EAvmIs3dCd6GO', 'spotify:track:2fY6tqgrlrg1ky9fgs0t5u', 'spotify:track:3q7D4kfMcju2alVibiUAcz', 'spotify:track:3MODES4TNtygekLl146Dxd', 'spotify:track:5cwN1htZyoWqZCc33f3RfE', 'spotify:track:0nnwn7LWHCAu09jfuH1xTA', 'spotify:track:6xxXrNJnnsQNLdgNk8S4y8', 'spotify:track:10Nmj3JCNoMeBQ87uw5j8k', 'spotify:track:6L89mwZXSOwYl76YXfX13s', 'spotify:track:4absiGHMelB8eH976ytjBj', 'spotify:track:4KWUVilgHxC10fi3yMxtMQ', 'spotify:track:0p5eZCY0R7uNCZS1YDtIYI', 'spotify:track:5DiXcVovI0FcY2s0icWWUu', 'spotify:track:1wLQwg0mloy3yXjL0jPE0N', 'spotify:track:6IRzBP4gVoV4D2zHmocoWy', 'spotify:track:2RZWdE8kYPlCAcRUYDeuLC', 'spotify:track:4Y6GIje3GErVRIq1Ff5BJq', 'spotify:track:1A5V1sxyCLpKJezp75tUXn', 'spotify:track:2g2a5kDeZexbUTD8abcvm6', 'spotify:track:3L2Nyi3T7XabH8EEZFLDdX', 'spotify:track:7jIAttgQTpLDoNtykIQXjH', 'spotify:track:5LlsD7LdSMkGV4Iu0a2Zq0', 'spotify:track:2DFRFqWNahKtFD112H2iEZ', 'spotify:track:0zo4T5c5VV42554ySEc5J6', 'spotify:track:7yMiX7n9SBvadzox8T5jzT', 'spotify:track:07GvNcU1WdyZJq3XxP0kZa', 'spotify:track:2hEYslbdYWFSIA6JboUvnR', 'spotify:track:1hwJKpe0BPUsq6UUrwBWTw', 'spotify:track:0wzRcekWyVCSyPtlPOeJau', 'spotify:track:2aibwv5hGXSgw7Yru8IYTO', 'spotify:track:0jqK7sGTLsHPkQrrcrGuKD', 'spotify:track:5lN1EH25gdiqT1SFALMAq1', 'spotify:track:5bYQM8TrQ6ur1SuEieE3pK', 'spotify:track:60Ih7J2Q1o9shvMC2OAALu', 'spotify:track:7tCHpjktA50ihtkLz6bAnn', 'spotify:track:7xuu4ByQkm8qhnwJQk994r', 'spotify:track:5qlSYa5PePLAuAsAFgqVxW', 'spotify:track:0SzvmWfOhoxZVGrmvb56YL', 'spotify:track:7FRfYOql61DGDp9VPPe2qA', 'spotify:track:7wpYSigAhQeZp3cdsMQ3Af', 'spotify:track:1D3YGmST01Ba0WRiT7THPG', 'spotify:track:5kMiMqkz9T8fwvWhAFgGNG', 'spotify:track:3nhGcnuGvsLL8OtjoOOxXp', 'spotify:track:7vidktgNZFQylTgH1GEnMs', 'spotify:track:6TxWxE3IIWDgUVFy1aAItJ', 'spotify:track:4jU7NPkz4HVnM4hweqNhI1', 'spotify:track:7ouMYWpwJ422jRcDASZB7P', 'spotify:track:3qel23hQWhHT3qGewBQ0pE', 'spotify:track:2UWdUez9MB9yzL7Y81Mcip', 'spotify:track:5EYdTPdJD74r9EVZBztqGG']\n",
            "['spotify:track:4vsoWZcvtvSsE0OiVvDDvX', 'spotify:track:54GASuUdLbhhdyECNUp3Pb', 'spotify:track:47Bg6IrMed1GPbxRgwH2aC', 'spotify:track:4G92yYrUs0cvY7G41YRI0z', 'spotify:track:17JYzDCW1UTndfURuTydF2', 'spotify:track:64DpBZj4IlDFzCwxTq7azl', 'spotify:track:3u1S1OmAUhx5DRlLrXqyp3', 'spotify:track:1uDjaezEbalGyGnuH80zDK', 'spotify:track:7IQwT5VzrCo7UcMRljkkmR', 'spotify:track:612R6rJlv9N3wpljUpT8Ja', 'spotify:track:0b9oOr2ZgvyQu88wzixux9', 'spotify:track:5loVmc3MmtYGsTw12eDgcU', 'spotify:track:3pXF1nA74528Edde4of9CC', 'spotify:track:11607FzqoipskTsXrwEHnJ', 'spotify:track:6RnfjXnNuKK6zca1d9W0Ir', 'spotify:track:1G1R0XgChe18Zr1o6tlmN6', 'spotify:track:5eSllZgRWCIJsDTAqFRwQw', 'spotify:track:3E2Zh20GDCR9B1EYjfXWyv', 'spotify:track:3KiktyOxQd2Z0bmnabgRq2', 'spotify:track:1wYZZtamWTQAoj8B812uKQ', 'spotify:track:05eZlxyjbkHMPCnunUasCS', 'spotify:track:7iOyMOxdOULvXqUqC26spJ', 'spotify:track:1fBnzFTxI1wqtU0ZR1pxrf', 'spotify:track:3asj3OMn7BkuWOxsdkYybG', 'spotify:track:09rBX6mQFN1GFJgfqUQak5', 'spotify:track:7bzzC7QIfflM9eEj2aqaYX', 'spotify:track:5lAnYvAIkSDNXqfo7DyFUm', 'spotify:track:2pLV5v5rgpMTmVvRcjmm8d', 'spotify:track:0WqqFajBwA3tpRZ66kRomu', 'spotify:track:2kSb3wYSOV996xA2NSmpck', 'spotify:track:1dJuteDIOkGfDSN7zPkzNv', 'spotify:track:3EmmCZoqpWOTY1g2GBwJoR', 'spotify:track:5v8aEcHcaJIGYpfVVPtJjI', 'spotify:track:16nCYYc1lCxCyvaR1lgo0i', 'spotify:track:644rGY6maSElnKVsAg1gJj', 'spotify:track:5uSG6fUPRaehaV820zcpsK', 'spotify:track:07A4mFpXnuUrcRIc1S8ilz', 'spotify:track:5cw9s2zGrbny2M2p3WRmGm', 'spotify:track:3ytPXQa5y40yr1Za9Wj6g7', 'spotify:track:17XvbAd3K1GOjWy5uQvK2U', 'spotify:track:2fWSJxOHKSqXOkhxyo3Gly', 'spotify:track:1XJ93XskwJf7PCyIVLbNBt', 'spotify:track:2COdabul4TuLdlCny8C9o8', 'spotify:track:7py16W5fWYLFFS6BElKAjn', 'spotify:track:7rfiXyFb5M9BqdkvKvVEiB', 'spotify:track:4RXpgGM7A4Hg7cFBoH5KyF', 'spotify:track:7KsZHCfOitA5V9oQYVdltG', 'spotify:track:6vSq5q5DCs1IvwKIq53hj2', 'spotify:track:37ZgsOy8t4vMnGtMExr6ah', 'spotify:track:3Yvk0ZLxMlt6ioasvdN6vB']\n"
          ]
        }
      ]
    },
    {
      "cell_type": "code",
      "source": [
        "#create playlist for each genre, and add songs\n",
        "\n",
        "url = f\"https://api.spotify.com/v1/users/{user_id}/playlists\"\n",
        "\n",
        "header = {\n",
        "    \"Authorization\": f\"Bearer {user1_access_token}\"\n",
        "}\n",
        "\n",
        "\n",
        "\n",
        "#genre 1\n",
        "\n",
        "#create playlist\n",
        "data = {\n",
        "    \"name\": f\"Recommended {topGenres[gen_loc1]} Playlist\",\n",
        "    \"description\": f\"Playlist of recommened {topGenres[gen_loc1]} songs just for you!\",\n",
        "    \"public\": \"false\"\n",
        "}\n",
        "r = requests.post(url, json=data, headers=header)\n",
        "res = r.json()\n",
        "gen1Playlist = res['id']\n",
        "\n",
        "#add songs\n",
        "data1 = urlencode({\n",
        "    \"uris\": ','.join(genre1Recs),\n",
        "    \"position\": 0\n",
        "})\n",
        "url1 = f\"https://api.spotify.com/v1/playlists/{gen1Playlist}/tracks?{data1}\"\n",
        "complete = 0\n",
        "while complete == 0:  #check if request succeeeded, if not, resend until it does (sometimes the API does not add the songs to the playlist)\n",
        "  r1 = requests.post(url1, json=data1, headers=header)\n",
        "  if (r1.status_code == 200) | (r1.status_code == 201):\n",
        "    complete = 1\n",
        "\n",
        "\n",
        "#genre 2\n",
        "data = {\n",
        "    \"name\": f\"Recommended {topGenres[gen_loc2]} Playlist\",\n",
        "    \"description\": f\"Playlist of recommened {topGenres[gen_loc2]} songs just for you!\",\n",
        "    \"public\": \"false\"\n",
        "}\n",
        "r = requests.post(url, json=data, headers=header)\n",
        "res = r.json()\n",
        "gen2Playlist = res['id']\n",
        "\n",
        "data2 = urlencode({\n",
        "    \"uris\": ','.join(genre2Recs),\n",
        "    \"position\": 0\n",
        "})\n",
        "url2 = f\"https://api.spotify.com/v1/playlists/{gen2Playlist}/tracks?{data2}\"\n",
        "complete = 0\n",
        "while complete == 0:\n",
        "  r2 = requests.post(url2, json=data2, headers=header)\n",
        "  if (r2.status_code == 200) | (r2.status_code == 201):\n",
        "    complete = 1\n",
        "\n",
        "\n",
        "#genre 3\n",
        "data = {\n",
        "    \"name\": f\"Recommended {topGenres[gen_loc3]} Playlist\",\n",
        "    \"description\": f\"Playlist of recommened {topGenres[gen_loc3]} songs just for you!\",\n",
        "    \"public\": \"false\"\n",
        "}\n",
        "r = requests.post(url, json=data, headers=header)\n",
        "res = r.json()\n",
        "gen3Playlist = res['id']\n",
        "\n",
        "data3 = urlencode({\n",
        "    \"uris\": ','.join(genre3Recs),\n",
        "    \"position\": 0\n",
        "})\n",
        "url3 = f\"https://api.spotify.com/v1/playlists/{gen3Playlist}/tracks?{data3}\"\n",
        "complete = 0\n",
        "while complete == 0:\n",
        "  r3 = requests.post(url3, json=data3, headers=header)\n",
        "  if (r3.status_code == 200) | (r3.status_code == 201):\n",
        "    complete = 1\n"
      ],
      "metadata": {
        "id": "yCnLI0dLRp7b"
      },
      "execution_count": 44,
      "outputs": []
    }
  ]
}